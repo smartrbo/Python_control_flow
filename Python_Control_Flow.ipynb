{
 "cells": [
  {
   "cell_type": "code",
   "execution_count": 31,
   "id": "0b80758a-b3d2-4216-a0e7-f5f857b46c8c",
   "metadata": {},
   "outputs": [
    {
     "name": "stdin",
     "output_type": "stream",
     "text": [
      "Enter the num you want to check: 4\n"
     ]
    },
    {
     "name": "stdout",
     "output_type": "stream",
     "text": [
      "Number is positive\n"
     ]
    }
   ],
   "source": [
    "#1. Write a Python program to check if a given number is positive or negative.\n",
    "num=int(input('Enter the num you want to check:'))\n",
    "if num>=0:\n",
    "    print('Number is positive')\n",
    "else:\n",
    "    print('Number is negative')"
   ]
  },
  {
   "cell_type": "code",
   "execution_count": 4,
   "id": "51ae2728-18dc-44e3-8b35-eca66180596f",
   "metadata": {},
   "outputs": [
    {
     "name": "stdin",
     "output_type": "stream",
     "text": [
      "Enter the your age  78\n"
     ]
    },
    {
     "name": "stdout",
     "output_type": "stream",
     "text": [
      "You are elligble to vote\n"
     ]
    }
   ],
   "source": [
    "# 2. Create a program that determines if a person is eligible to vote based on their age.\n",
    "age=int(input(\"Enter the your age \"))\n",
    "if age<18:\n",
    "    print('YOu are Not Elligible to vote')\n",
    "elif age>=18:\n",
    "    print('You are elligble to vote')\n",
    "else:\n",
    "    print('Enter correct age')\n"
   ]
  },
  {
   "cell_type": "code",
   "execution_count": 8,
   "id": "fdeed951-f064-47c9-946f-67d00df5e199",
   "metadata": {},
   "outputs": [
    {
     "name": "stdin",
     "output_type": "stream",
     "text": [
      "Enter the first number: 18\n",
      "Enter the second number: 17\n"
     ]
    },
    {
     "name": "stdout",
     "output_type": "stream",
     "text": [
      "First Number is a maximum Number\n"
     ]
    }
   ],
   "source": [
    "#3. Develop a program to find the maximum of two numbers using if-else statements.\n",
    "first_num=int(input('Enter the first number:'))\n",
    "second_num=int(input('Enter the second number:'))\n",
    "if first_num>second_num:\n",
    "    print('First Number is a maximum Number')\n",
    "else:\n",
    "    print('Second Number is a maximum Number')"
   ]
  },
  {
   "cell_type": "code",
   "execution_count": 12,
   "id": "a0c10365-4bed-42a0-91bb-60b93943879c",
   "metadata": {},
   "outputs": [
    {
     "name": "stdin",
     "output_type": "stream",
     "text": [
      "Enter the Year you want to check year as aleap or not: 2024\n"
     ]
    },
    {
     "name": "stdout",
     "output_type": "stream",
     "text": [
      "Year is a leap year\n"
     ]
    }
   ],
   "source": [
    "#4. Write a Python script to classify a given year as a leap year or not.\n",
    "year=int(input('Enter the Year you want to check year as aleap or not:'))\n",
    "if year%4==0:\n",
    "         print('Year is a leap year')\n",
    "else:\n",
    "         print('Year is not a leap year')"
   ]
  },
  {
   "cell_type": "code",
   "execution_count": 10,
   "id": "4610b95e-7972-40e5-99d7-35e18a9b3297",
   "metadata": {},
   "outputs": [
    {
     "name": "stdin",
     "output_type": "stream",
     "text": [
      "ENter the charcter: a\n"
     ]
    },
    {
     "name": "stdout",
     "output_type": "stream",
     "text": [
      "Vowel\n"
     ]
    }
   ],
   "source": [
    "#5. Create a program that checks whether a character is a vowel or a consonant.\n",
    "vowels=\"aeiouAEIOU\"\n",
    "char=input('ENter the charcter:')\n",
    "for i in char:\n",
    "    if i in vowels:\n",
    "        print('Vowel')\n",
    "    else:\n",
    "        print('COnsonant')"
   ]
  },
  {
   "cell_type": "code",
   "execution_count": 19,
   "id": "9052bcfc-69a5-49c0-80d6-40c64608d924",
   "metadata": {},
   "outputs": [
    {
     "name": "stdin",
     "output_type": "stream",
     "text": [
      "Enter the Number: 51\n"
     ]
    },
    {
     "name": "stdout",
     "output_type": "stream",
     "text": [
      "Number is odd\n"
     ]
    }
   ],
   "source": [
    "#Implement a program to determine whether a given number is even or odd.\n",
    "num=int(input('Enter the Number:'))\n",
    "if num%2==0:\n",
    "    print('Number is a even')\n",
    "elif num%2!=0:\n",
    "    print('Number is odd')"
   ]
  },
  {
   "cell_type": "code",
   "execution_count": 3,
   "id": "fc0f6a9c-2063-48e6-9dbf-60c4595676d9",
   "metadata": {},
   "outputs": [
    {
     "name": "stdin",
     "output_type": "stream",
     "text": [
      "Enter the Number -5\n"
     ]
    },
    {
     "name": "stdout",
     "output_type": "stream",
     "text": [
      "5\n"
     ]
    }
   ],
   "source": [
    "#Write a Python function to calculate the absolute value of a number without using the `abs()` function.\n",
    "num=int(input('Enter the Number'))\n",
    "if num >=0:\n",
    "    print(num)\n",
    "else:\n",
    "    print(-num)"
   ]
  },
  {
   "cell_type": "code",
   "execution_count": 5,
   "id": "e0fed2e6-0376-4eef-9ba7-fc84e0f77feb",
   "metadata": {},
   "outputs": [
    {
     "name": "stdin",
     "output_type": "stream",
     "text": [
      "Enter the first number : 789\n",
      "Enter thhe second num: 7\n",
      "ENter the third num: 55888\n"
     ]
    },
    {
     "name": "stdout",
     "output_type": "stream",
     "text": [
      "Third Number is Largest\n"
     ]
    }
   ],
   "source": [
    "#8. Develop a program that determines the largest of three given numbers using if-else statements.\n",
    "a=int(input('Enter the first number :'))\n",
    "b=int(input('Enter thhe second num:'))\n",
    "c=int(input('ENter the third num:'))\n",
    "if a>b and a>c:\n",
    "    print('First Number is largest')\n",
    "if b>a and b>c:\n",
    "    print('Second Number is Largest')\n",
    "if c>a and c>b:\n",
    "    print('Third Number is Largest')"
   ]
  },
  {
   "cell_type": "code",
   "execution_count": 3,
   "id": "c80d6430-0342-445b-b175-0af2cfa5a86b",
   "metadata": {},
   "outputs": [
    {
     "name": "stdin",
     "output_type": "stream",
     "text": [
      "Enter the string sentence of palindrone number to check: mom\n"
     ]
    },
    {
     "name": "stdout",
     "output_type": "stream",
     "text": [
      "Yes it is a Palindrone Number\n"
     ]
    }
   ],
   "source": [
    " #Create a program that checks if a given string is a palindrome. \n",
    "pli=input('Enter the string sentence of palindrone number to check:')\n",
    "if pli[::-1]==pli:\n",
    "    print('Yes it is a Palindrone Number')\n",
    "else:\n",
    "    print('It is Not a Palindrone Number')"
   ]
  },
  {
   "cell_type": "code",
   "execution_count": 2,
   "id": "b023772b-b044-4a01-a9ba-69576dc57692",
   "metadata": {},
   "outputs": [
    {
     "name": "stdin",
     "output_type": "stream",
     "text": [
      "Enter the score of math 85\n",
      "Enter the score of DA 45\n",
      "Enter the score of Big Data 89\n",
      "Enter the score of CEH 76\n",
      "Enter the score of Networking 58\n"
     ]
    },
    {
     "name": "stdout",
     "output_type": "stream",
     "text": [
      "B+ Grade\n"
     ]
    }
   ],
   "source": [
    "#10. Write a Python program to calculate the grade based on a student's score.\n",
    "sub_1=int(input('Enter the score of math'))\n",
    "sub_2=int(input('Enter the score of DA'))\n",
    "sub_3=int(input('Enter the score of Big Data'))\n",
    "sub_4=int(input('Enter the score of CEH'))\n",
    "sub_5=int(input('Enter the score of Networking'))\n",
    "total=sub_1+sub_2+sub_3+sub_4+sub_5\n",
    "score=total/5\n",
    "if score >=90:\n",
    "    print(\"A+ grade\")\n",
    "elif score>=80 and score<90:\n",
    "    print('A Grade')\n",
    "elif score>=70 and score<80:\n",
    "    print('B+ Grade')\n",
    "elif score>=70 and score<80:\n",
    "    print('B+ Grade')\n",
    "elif score>=60 and score<70:\n",
    "    print('B Grade')\n",
    "elif score>=50 and score<60:\n",
    "    print('C+ Grade')\n",
    "elif score>=40 and score<50:\n",
    "    print('C Grade')\n",
    "else:\n",
    "    print('Fail')"
   ]
  },
  {
   "cell_type": "code",
   "execution_count": 5,
   "id": "d033cf55-8a2f-481e-a706-43bb17dfdcd4",
   "metadata": {},
   "outputs": [
    {
     "name": "stdin",
     "output_type": "stream",
     "text": [
      "Enter the first Number: 145\n",
      "Enter the first Number: 14\n",
      "Enter the first Number: 142\n"
     ]
    },
    {
     "name": "stdout",
     "output_type": "stream",
     "text": [
      "\n",
      "Largest Is a First Number 145\n"
     ]
    }
   ],
   "source": [
    "#Write a program to find the largest among three numbers using nested if-else statements.\n",
    "first_num=int(input('Enter the first Number:'))\n",
    "Second_num=int(input('Enter the first Number:'))\n",
    "Third_num=int(input('Enter the first Number:'))\n",
    "if first_num>Second_num:\n",
    "    if first_num>Third_num:\n",
    "        print('\\nLargest Is a First Number',first_num)\n",
    "    else:\n",
    "        print('\\nLargest is third Number',Third_num)\n",
    "else:\n",
    "    if Second_num>Third_num:\n",
    "        print('\\nlargest Is Second Number',Second_num)\n",
    "    else:\n",
    "        print('\\nLargest is third Number',Third_num)\n",
    "    "
   ]
  },
  {
   "cell_type": "code",
   "execution_count": 16,
   "id": "80911102-5330-4b93-b93e-8f9131c8dccc",
   "metadata": {},
   "outputs": [
    {
     "name": "stdin",
     "output_type": "stream",
     "text": [
      "Enter the triangle length of a side 4\n",
      "Enter the triangle length of b side 5\n",
      "Enter the triangle length of c side 4\n"
     ]
    },
    {
     "name": "stdout",
     "output_type": "stream",
     "text": [
      "\n",
      "The Triangle is isosceles Triangle.\n"
     ]
    }
   ],
   "source": [
    "#Implement a program to determine if a triangle is equilateral, isosceles, or scalene.\n",
    "a=int(input('Enter the triangle length of a side'))\n",
    "b=int(input('Enter the triangle length of b side'))\n",
    "c=int(input('Enter the triangle length of c side'))\n",
    "if a>0 and b>0 and c>0:\n",
    "    if a==b and b==c and a==c:\n",
    "        print('\\nThe Triangle is Equilateral Triangle.')\n",
    "    else:\n",
    "        if a==b or b==c or a==c:\n",
    "            print('\\nThe Triangle is isosceles Triangle.')\n",
    "        else:\n",
    "            print('\\nThe Triangle is scalene Triangle.')\n",
    "else:\n",
    "    print('Enter the positive Number')"
   ]
  },
  {
   "cell_type": "code",
   "execution_count": 14,
   "id": "a0c91204-a8f5-4cf1-8f9c-f766ae0a8658",
   "metadata": {},
   "outputs": [
    {
     "name": "stdin",
     "output_type": "stream",
     "text": [
      "Enter the year you want to check leap year 2000\n"
     ]
    },
    {
     "name": "stdout",
     "output_type": "stream",
     "text": [
      "Year is leap year\n",
      "year is also a century year\n"
     ]
    }
   ],
   "source": [
    "#13. Develop a program that checks if a year is a leap year and also if it is a century year.\n",
    "year=int(input('Enter the year you want to check leap year'))\n",
    "if year%4==0:\n",
    "    print('Year is leap year')\n",
    "    if year%100==0:\n",
    "        print('year is also a century year')\n",
    "    else:\n",
    "        print('Year is not a Century year')\n",
    "else:\n",
    "    print('It is noT leap year')"
   ]
  },
  {
   "cell_type": "code",
   "execution_count": 32,
   "id": "26a7be5d-b35d-476e-b6bc-e2bee3b3885e",
   "metadata": {},
   "outputs": [
    {
     "name": "stdin",
     "output_type": "stream",
     "text": [
      "Enter the Number: -7\n"
     ]
    },
    {
     "name": "stdout",
     "output_type": "stream",
     "text": [
      "Number is negative\n"
     ]
    }
   ],
   "source": [
    "#14. Write a Python script to determine if a number is positive, negative, or zero.\n",
    "num=int(input('Enter the Number:'))\n",
    "if (num >= 0):\n",
    "    if num == 0:\n",
    "        print('Number is 0')\n",
    "    else:\n",
    "        print('Number is positive')\n",
    "else:\n",
    "    print('Number is negative')"
   ]
  },
  {
   "cell_type": "code",
   "execution_count": 42,
   "id": "545b8b15-8d61-42ed-aa70-a79dcc30637d",
   "metadata": {},
   "outputs": [
    {
     "name": "stdin",
     "output_type": "stream",
     "text": [
      "Enter the age to check person is a teenager (between 13 and 19 years old) 14\n"
     ]
    },
    {
     "name": "stdout",
     "output_type": "stream",
     "text": [
      "person is a teenager (between 13 and 19 years old)\n"
     ]
    }
   ],
   "source": [
    "#15. Create a program to check if a person is a teenager (between 13 and 19 years old).\n",
    "age=int(input('Enter the age to check person is a teenager (between 13 and 19 years old)'))\n",
    "if age>0:\n",
    "    if age>=13 and age<=19:\n",
    "        print('person is a teenager (between 13 and 19 years old)')\n",
    "    else:\n",
    "        print('person is not a teenager ')\n",
    "else:\n",
    "    print('ENter correct age')\n",
    "        "
   ]
  },
  {
   "cell_type": "code",
   "execution_count": 31,
   "id": "d06c9519-61b8-421b-b224-434d1c9e59cd",
   "metadata": {},
   "outputs": [
    {
     "name": "stdin",
     "output_type": "stream",
     "text": [
      "Enter the angle Between the 1 to 180: 90\n"
     ]
    },
    {
     "name": "stdout",
     "output_type": "stream",
     "text": [
      "Right angle\n"
     ]
    }
   ],
   "source": [
    "#16. Develop a program that determines the type of angle based on its measure (acute, obtuse, or right).\n",
    "angle=int(input('Enter the angle Between the 1 to 180:'))\n",
    "if angle>0 and angle<=180:\n",
    "    if angle == 90:\n",
    "        print(\"Right angle\")\n",
    "    else:\n",
    "        if angle < 90:\n",
    "            print(\"Acute angle\")\n",
    "        else:\n",
    "            print(\"Obtuse angle\")\n",
    "else:\n",
    "    print('\\nEnter Angle between the 1 to 180')"
   ]
  },
  {
   "cell_type": "code",
   "execution_count": 75,
   "id": "32b002cd-eb6b-4fa9-84a1-c6b3245b813c",
   "metadata": {},
   "outputs": [
    {
     "name": "stdin",
     "output_type": "stream",
     "text": [
      "Enter the The coefficient of the x^2 term 1\n",
      "Enter the The coefficient of the x term 2\n",
      "Enter the  The constant term 1\n"
     ]
    },
    {
     "name": "stdout",
     "output_type": "stream",
     "text": [
      "-1.0\n"
     ]
    }
   ],
   "source": [
    "#17. Write a Python program to calculate the roots of a quadratic equation.\n",
    "a=int(input('Enter the The coefficient of the x^2 term'))\n",
    "b=int(input('Enter the The coefficient of the x term'))\n",
    "c=int(input('Enter the  The constant term'))\n",
    "discriminant = b**2 - 4 * a * c\n",
    "if discriminant < 0:\n",
    "    print('None')\n",
    "if discriminant == 0:\n",
    "    print((-b / (2 * a)))\n",
    "else:\n",
    "    root1 = (-b + discriminant**0.5) / (2 * a)\n",
    "    root2 = (-b - discriminant**0.5) / (2 * a)\n",
    "    print(root1, root2)"
   ]
  },
  {
   "cell_type": "code",
   "execution_count": 65,
   "id": "932f8f8c-29d2-4368-a6fc-582496f2ee06",
   "metadata": {},
   "outputs": [
    {
     "name": "stdin",
     "output_type": "stream",
     "text": [
      "Enter the Number of day of the week based 6\n"
     ]
    },
    {
     "name": "stdout",
     "output_type": "stream",
     "text": [
      "Saturday\n"
     ]
    }
   ],
   "source": [
    "#Implement a program to determine the day of the week based on a user-provided number (1 for Monday, 2 for Tuesday, etc.).\n",
    "num=int(input('Enter the Number of day of the week based'))\n",
    "if num>0:\n",
    "    if num==1:\n",
    "        print('Monday')\n",
    "    if num==2:\n",
    "        print('Tuesday')\n",
    "    if num==3:\n",
    "        print('Wensday')\n",
    "    if num==4:\n",
    "        print('Thusday')\n",
    "    if num==5:\n",
    "        print('Friday')\n",
    "    if num==6:\n",
    "        print('Saturday')\n",
    "    if num==7:\n",
    "        print('SUnday')\n",
    "else:\n",
    "    print('Enter correct Number from 1 to 7')"
   ]
  },
  {
   "cell_type": "code",
   "execution_count": 1,
   "id": "1ffaedea-f1ec-4fe9-96c4-2f38754acf70",
   "metadata": {},
   "outputs": [
    {
     "name": "stdin",
     "output_type": "stream",
     "text": [
      "Enter the year 2000\n"
     ]
    },
    {
     "name": "stdout",
     "output_type": "stream",
     "text": [
      "year is a leap year\n",
      "year is a leap year and also it is evenly divisible by 400\n"
     ]
    }
   ],
   "source": [
    "#Create a program that determines if a year is a leap year and also if it is evenly divisible by 400.\n",
    "year=int(input('Enter the year'))\n",
    "if year%4==0:\n",
    "    print('year is a leap year')\n",
    "    if year%400==0:\n",
    "        print('year is a leap year and also it is evenly divisible by 400')\n",
    "else:\n",
    "    print('Year is not a leap year')"
   ]
  },
  {
   "cell_type": "code",
   "execution_count": 8,
   "id": "5d882c66-d612-4b81-b977-9dc517cef855",
   "metadata": {},
   "outputs": [
    {
     "name": "stdout",
     "output_type": "stream",
     "text": [
      "29 is a prime number\n"
     ]
    }
   ],
   "source": [
    "#20. Develop a program that checks if a given number is prime or not using nested if-else statements.\n",
    "n=29\n",
    "if n > 1:\n",
    "    for i in range(2,int(n/2)+1):\n",
    "        if (n % i) == 0:\n",
    "            print(n, \"is not a prime number\")\n",
    "            break\n",
    "    else:\n",
    "        print(n, \"is a prime number\")\n",
    "else:\n",
    "\tprint(n, \"is not a prime number\")"
   ]
  },
  {
   "cell_type": "code",
   "execution_count": 10,
   "id": "7eba7789-76b1-44f6-92bc-dac1cb581cdd",
   "metadata": {},
   "outputs": [
    {
     "name": "stdin",
     "output_type": "stream",
     "text": [
      "Enter the score out of percent you get in exam:: 78\n"
     ]
    },
    {
     "name": "stdout",
     "output_type": "stream",
     "text": [
      "B+ Grade\n"
     ]
    }
   ],
   "source": [
    "#21. Write a Python program to assign grades based on different ranges of scores using elif statements.\n",
    "score=int(input('Enter the score out of percent you get in exam::'))\n",
    "if score>90:\n",
    "    print('A+ grade')\n",
    "elif score<=90 and score>80:\n",
    "    print('A Grade')\n",
    "elif score<=80 and score>70:\n",
    "    print('B+ Grade')\n",
    "elif score<=70 and score>60:\n",
    "    print('B Grade')\n",
    "elif score<=60 and score>50:\n",
    "    print('C+ Grade')\n",
    "elif score<=50 and score>40:\n",
    "    print('C Grade')\n",
    "elif score<=40 and score>35:\n",
    "    print('D Grade')\n",
    "else:\n",
    "    print('Fail')"
   ]
  },
  {
   "cell_type": "code",
   "execution_count": 7,
   "id": "c0951c2a-e45b-4c19-8d62-b66dbd0e0eeb",
   "metadata": {},
   "outputs": [
    {
     "name": "stdin",
     "output_type": "stream",
     "text": [
      "Enter the first angle of traingle 90\n",
      "Enter the Second angle of traingle 90\n",
      "Enter the Third angle of traingle 90\n"
     ]
    },
    {
     "name": "stdout",
     "output_type": "stream",
     "text": [
      "Equilateral Traingle\n"
     ]
    }
   ],
   "source": [
    "#22. Implement a program to determine the type of a triangle based on its angles.\n",
    "angle1=int(input('Enter the first angle of traingle'))\n",
    "angle2=int(input('Enter the Second angle of traingle'))\n",
    "angle3=int(input('Enter the Third angle of traingle'))\n",
    "if angle1==angle2==angle3:\n",
    "    print('Equilateral Traingle')\n",
    "elif angle1==angle2 or angle2==angle3 or angle3==angle1:\n",
    "    print(\"Isosceles triangle\")\n",
    "else:\n",
    "    print(\"Scalene triangle\")"
   ]
  },
  {
   "cell_type": "code",
   "execution_count": 9,
   "id": "86c0a241-24fd-4725-ae8b-638b99260f2c",
   "metadata": {},
   "outputs": [
    {
     "name": "stdin",
     "output_type": "stream",
     "text": [
      "Enter the person BMI weight 28.5\n"
     ]
    },
    {
     "name": "stdout",
     "output_type": "stream",
     "text": [
      "Normal\n"
     ]
    }
   ],
   "source": [
    "# 23. Develop a program to categorize a given person's BMI into underweight, normal, overweight, or obese using elif statements.\n",
    "weight=float(input('Enter the person BMI weight'))\n",
    "if weight<=18.5:\n",
    "    print('The person is underweight')\n",
    "elif weight>=18.5 or weight<=24.9:\n",
    "    print('Normal')\n",
    "elif weight>=25.0 or weight<=29.9:\n",
    "    print('OverWeight')\n",
    "else:\n",
    "    print('obese')\n",
    "    "
   ]
  },
  {
   "cell_type": "code",
   "execution_count": 7,
   "id": "41160a8b-e84a-4f46-8f62-eca85873f4f4",
   "metadata": {},
   "outputs": [
    {
     "name": "stdin",
     "output_type": "stream",
     "text": [
      "Enter the person BMI weight 28.5\n"
     ]
    },
    {
     "name": "stdout",
     "output_type": "stream",
     "text": [
      "The person is OverWeight\n"
     ]
    }
   ],
   "source": [
    "# 23. Develop a program to categorize a given person's BMI into underweight, normal, overweight, or obese using elif statements.\n",
    "weight=float(input('Enter the person BMI weight'))\n",
    "if weight<=18.5:\n",
    "    print('The person is underweight')\n",
    "elif weight>18.5 and weight<=24.9:\n",
    "    print('The person is Normal')\n",
    "elif weight>=25.0 and weight<=29.9:\n",
    "    print('The person is OverWeight')\n",
    "else:\n",
    "    print('The person is obese')\n",
    "    "
   ]
  },
  {
   "cell_type": "code",
   "execution_count": 10,
   "id": "9b6e1d0a-dc5e-4992-bc6a-17e98ac60a81",
   "metadata": {},
   "outputs": [
    {
     "name": "stdin",
     "output_type": "stream",
     "text": [
      "Enter the number  -5\n"
     ]
    },
    {
     "name": "stdout",
     "output_type": "stream",
     "text": [
      "Number is Negative\n"
     ]
    }
   ],
   "source": [
    "# Create a program that determines whether a given number is positive, negative, or zero using elifm statements.\n",
    "num=int(input(\"Enter the number \"))\n",
    "if num==0:\n",
    "    print('NUmber is zero(0)')\n",
    "elif num>0:\n",
    "    print('Number is Positive')\n",
    "else:\n",
    "    print('Number is Negative')"
   ]
  },
  {
   "cell_type": "code",
   "execution_count": 21,
   "id": "0ac89a55-c87a-4e54-a88b-c2af87805170",
   "metadata": {},
   "outputs": [
    {
     "name": "stdin",
     "output_type": "stream",
     "text": [
      "Enter the character : [\n"
     ]
    },
    {
     "name": "stdout",
     "output_type": "stream",
     "text": [
      "special\n"
     ]
    }
   ],
   "source": [
    "# 25. Write a Python script to determine the type of a character (uppercase, lowercase, or special) using elif  statements.\n",
    "char=input('Enter the character :')\n",
    "if char.islower():\n",
    "    print('Lowercase')\n",
    "elif char.isupper():\n",
    "    print('Uppercase')\n",
    "else:\n",
    "    print(\"special\")"
   ]
  },
  {
   "cell_type": "code",
   "execution_count": 5,
   "id": "c16bc363-d541-48b3-b0ec-2b09dbe5bc7d",
   "metadata": {},
   "outputs": [
    {
     "name": "stdin",
     "output_type": "stream",
     "text": [
      "Enter the purchase amount:: 5000\n"
     ]
    },
    {
     "name": "stdout",
     "output_type": "stream",
     "text": [
      "discounted price is 10 % the price after discount 500.0\n"
     ]
    }
   ],
   "source": [
    "# Implement a program to calculate the discounted price based on different purchase amounts using elif statements.\n",
    "purchase=int(input('Enter the purchase amount::'))\n",
    "if purchase<1000:\n",
    "    print('We Do not have Discount less than 1000')\n",
    "elif purchase>=1000 and purchase<=5000:\n",
    "    discount=purchase/100*10\n",
    "    print('discounted price is 10 % the price after discount',discount)\n",
    "elif purchase>=5000 and purchase<=20000:\n",
    "    discount1=purchase/100*20\n",
    "    print('discounted price is 20 % the price after discount',discount1)\n",
    "elif purchase>=20001 and purchase<=50000:\n",
    "    discount2=purchase/100*25\n",
    "    print('discounted price is 30 % the price after discount',discount2)\n",
    "elif purchase>=50001 and purchase<=100000:\n",
    "    discount3=purchase/100*30\n",
    "    print('discounted price is 40 % the price after discount',discount3)\n",
    "elif purchase>100000:\n",
    "    discount4=purchase/100*50\n",
    "    print('discounted price is 50 % the price after discount',discount4)\n",
    "else:\n",
    "    print('Discount not applicalble on amount')"
   ]
  },
  {
   "cell_type": "code",
   "execution_count": 10,
   "id": "ac189173-fa3b-42a7-bdc2-8f4bb93b380d",
   "metadata": {},
   "outputs": [
    {
     "name": "stdout",
     "output_type": "stream",
     "text": [
      "62.5\n"
     ]
    }
   ],
   "source": [
    "# Develop a program to calculate the electricity bill based on different consumption slabs using elif statements.\n",
    "bill = 0\n",
    "units = 100\n",
    "if units <= 50:\n",
    "    bill = units * 0.5\n",
    "elif units <= 100:\n",
    "    bill = 50 * 0.5 + (units - 50) * 0.75\n",
    "elif units <= 200:\n",
    "    bill = 50 * 0.5 + 50 * 0.75 + (units - 100) * 1.2\n",
    "else:\n",
    "    bill = 50 * 0.5 + 50 * 0.75 + 100 * 1.2 + (units - 200) * 1.5\n",
    "print(bill)"
   ]
  },
  {
   "cell_type": "code",
   "execution_count": 10,
   "id": "f94896f3-6e0d-44fa-b1ea-8817627df413",
   "metadata": {},
   "outputs": [
    {
     "name": "stdin",
     "output_type": "stream",
     "text": [
      "Enter the first angle:  90\n",
      "Enter the second angle:  90\n",
      "Enter the third angle:  90\n",
      "Enter the fourth angle:  90\n",
      "Enter the length of side 1:  45\n",
      "Enter the length of side 2:  14\n",
      "Enter the length of side 3:  57\n",
      "Enter the length of side 4:  45\n"
     ]
    },
    {
     "name": "stdout",
     "output_type": "stream",
     "text": [
      "Quadrilateral is a rectangle\n"
     ]
    }
   ],
   "source": [
    "#28. Create a program to determine the type of quadrilateral based on its angles and sides using elif statements.\n",
    "# Taking input for angles and sides\n",
    "angle1 = int(input(\"Enter the first angle: \"))\n",
    "angle2 = int(input(\"Enter the second angle: \"))\n",
    "angle3 = int(input(\"Enter the third angle: \"))\n",
    "angle4 = int(input(\"Enter the fourth angle: \"))\n",
    "\n",
    "side1 = int(input(\"Enter the length of side 1: \"))\n",
    "side2 = int(input(\"Enter the length of side 2: \"))\n",
    "side3 = int(input(\"Enter the length of side 3: \"))\n",
    "side4 = int(input(\"Enter the length of side 4: \"))\n",
    "\n",
    "if angle1 == 90 and angle2 == 90 and angle3 == 90 and angle4 == 90:\n",
    "    print(\"Quadrilateral is a rectangle\")\n",
    "elif angle1 == 90 or angle2 == 90 or angle3 == 90 or angle4 == 90:\n",
    "    print(\"Quadrilateral is a trapezoid\")\n",
    "elif side1 == side2 == side3 == side4:\n",
    "    print(\"Quadrilateral is a square\")\n",
    "elif side1 == side3 and side2 == side4:\n",
    "    print(\"Quadrilateral is a parallelogram\")\n",
    "else:\n",
    "    print(\"Quadrilateral is a general quadrilateral\")\n"
   ]
  },
  {
   "cell_type": "code",
   "execution_count": 1,
   "id": "d85f3668-2ece-41e8-ae95-22155f92f69c",
   "metadata": {},
   "outputs": [
    {
     "name": "stdin",
     "output_type": "stream",
     "text": [
      "ENter the month but first word of mmonth in captial:: August\n"
     ]
    },
    {
     "name": "stdout",
     "output_type": "stream",
     "text": [
      "Monsoon Season\n"
     ]
    }
   ],
   "source": [
    "# Write a Python script to determine the season based on a user-provided month using elif statements.\n",
    "month=input('ENter the month but first word of mmonth in captial::')\n",
    "if month=='March' or month=='April' or month=='May':\n",
    "    print('Summer Season')\n",
    "elif month=='June'or month=='July'or month=='August'or month=='September':\n",
    "    print('Monsoon Season')\n",
    "elif month=='October' or month=='November':\n",
    "    print('Autumn Season')\n",
    "elif month=='December' or month=='January' or month=='February':\n",
    "    print('Winter Season')\n",
    "else:\n",
    "    print('Enter a valid sentence or a check your spelling')"
   ]
  },
  {
   "cell_type": "code",
   "execution_count": 11,
   "id": "9e66d940-8050-4c00-ab8f-71b24c35d15c",
   "metadata": {},
   "outputs": [
    {
     "name": "stdin",
     "output_type": "stream",
     "text": [
      "Enter the year:  2024\n",
      "Enter the month (1-12):  10\n"
     ]
    },
    {
     "name": "stdout",
     "output_type": "stream",
     "text": [
      "The year is leap and the month has 31 days.\n"
     ]
    }
   ],
   "source": [
    "# 30. Implement a program to determine the type of a year (leap or common) and month (30 or 31 days) using elif statements.\n",
    "year = int(input(\"Enter the year: \"))\n",
    "month = int(input(\"Enter the month (1-12): \"))\n",
    "\n",
    "if year % 4 == 0 and (year % 100 != 0 or year % 400 == 0):\n",
    "    year_type = \"leap\"\n",
    "else:\n",
    "    year_type = \"common\"\n",
    "\n",
    "if month in [1, 3, 5, 7, 8, 10, 12]:\n",
    "    days_in_month = 31\n",
    "elif month == 2:\n",
    "    if year_type == \"leap\":\n",
    "        days_in_month = 29\n",
    "    else:\n",
    "        days_in_month = 28\n",
    "elif month in [4, 6, 9, 11]:\n",
    "    days_in_month = 30\n",
    "else:\n",
    "    print(\"Invalid month. Please enter a valid month (1-12).\")\n",
    "    exit()\n",
    "\n",
    "print(f\"The year is {year_type} and the month has {days_in_month} days.\")\n"
   ]
  },
  {
   "cell_type": "code",
   "execution_count": 2,
   "id": "9cb09316-41c7-498c-a853-9bec8e075047",
   "metadata": {},
   "outputs": [
    {
     "name": "stdin",
     "output_type": "stream",
     "text": [
      "Enter the Number : 25\n"
     ]
    },
    {
     "name": "stdout",
     "output_type": "stream",
     "text": [
      "Number is positive\n"
     ]
    }
   ],
   "source": [
    "#Write a Python program that checks if a given number is positive, negative, or zero.\n",
    "num=int(input('Enter the Number :'))\n",
    "if num==0:\n",
    "    print('Number is Zero(0)')\n",
    "elif num>0:\n",
    "    print('Number is positive')\n",
    "else:\n",
    "    print('Number is Negative')"
   ]
  },
  {
   "cell_type": "code",
   "execution_count": 8,
   "id": "3e4a3d25-a58e-44c8-9031-7d93b8fb894b",
   "metadata": {},
   "outputs": [
    {
     "name": "stdin",
     "output_type": "stream",
     "text": [
      "Enter your age: 19\n"
     ]
    },
    {
     "name": "stdout",
     "output_type": "stream",
     "text": [
      "Your are eligible to vote\n"
     ]
    }
   ],
   "source": [
    "# 2. Create a program to determine if a person is eligible to vote based on their age.\n",
    "age=int(input('Enter your age:'))\n",
    "if age<18:\n",
    "    print('Your are not eligible to vote')\n",
    "elif age>=18:\n",
    "    print('Your are eligible to vote')"
   ]
  },
  {
   "cell_type": "code",
   "execution_count": 3,
   "id": "3740038a-e120-449e-ae76-5dad3fdf09b1",
   "metadata": {},
   "outputs": [
    {
     "name": "stdin",
     "output_type": "stream",
     "text": [
      "Enter the num 1 4\n",
      "Enter the num 2 45\n"
     ]
    },
    {
     "name": "stdout",
     "output_type": "stream",
     "text": [
      "Number second is greter 45\n"
     ]
    }
   ],
   "source": [
    "# Write a program to find the maximum of two given numbers using conditional statements.\n",
    "num1=int(input('Enter the num 1'))\n",
    "num2=int(input('Enter the num 2'))\n",
    "if num1<num2:\n",
    "    print('Number second is greter',num2)\n",
    "else:\n",
    "    print('Number first is greter',num1)"
   ]
  },
  {
   "cell_type": "code",
   "execution_count": 5,
   "id": "fdd4f926-5d46-48fc-8f83-770452b74066",
   "metadata": {},
   "outputs": [
    {
     "name": "stdin",
     "output_type": "stream",
     "text": [
      "Enter the score of student in percentage out of 100 78\n"
     ]
    },
    {
     "name": "stdout",
     "output_type": "stream",
     "text": [
      "B+ Grade\n"
     ]
    }
   ],
   "source": [
    "# Develop a program that calculates the grade of a student based on their exam score.\n",
    "score=int(input('Enter the score of student in percentage out of 100'))\n",
    "if score>90:\n",
    "    print('A+ grade')\n",
    "elif score<=90 and score>80:\n",
    "    print('A Grade')\n",
    "elif score<=80 and score>70:\n",
    "    print('B+ Grade')\n",
    "elif score<=70 and score>60:\n",
    "    print('B Grade')\n",
    "elif score<=60 and score>50:\n",
    "    print('C+ Grade')\n",
    "elif score<=50 and score>40:\n",
    "    print('C Grade')\n",
    "elif score<=40 and score>35:\n",
    "    print('D Grade')\n",
    "else:\n",
    "    print('Fail')"
   ]
  },
  {
   "cell_type": "code",
   "execution_count": 7,
   "id": "9c8f8986-ced0-4b3e-a711-16108dec1ecd",
   "metadata": {},
   "outputs": [
    {
     "name": "stdin",
     "output_type": "stream",
     "text": [
      "Enter the year  1198\n"
     ]
    },
    {
     "name": "stdout",
     "output_type": "stream",
     "text": [
      "1198 is not a leap year\n"
     ]
    }
   ],
   "source": [
    "#Create a program that checks if a year is a leap year or not.\n",
    "year=int(input('Enter the year '))\n",
    "if year%4==0:\n",
    "    print(year,'is a leap year')\n",
    "else:\n",
    "    print(year,'is not a leap year')"
   ]
  },
  {
   "cell_type": "code",
   "execution_count": 8,
   "id": "32dbf3fc-36a5-47ea-b9e4-70a4ef049eb4",
   "metadata": {},
   "outputs": [],
   "source": [
    "#Write a program to classify a triangle based on its sides' lengths.\n",
    "side1 = float(input(\"Enter the length of the first side: \"))\n",
    "side2 = float(input(\"Enter the length of the second side: \"))\n",
    "side3 = float(input(\"Enter the length of the third side: \"))\n",
    "\n",
    "if side1 == side2 == side3:\n",
    "    print(\"This is an equilateral triangle.\")\n",
    "elif side1 == side2 or side1 == side3 or side2 == side3:\n",
    "    print(\"This is an isosceles triangle.\")\n",
    "else:\n",
    "    print(\"This is a scalene triangle.\")\n"
   ]
  },
  {
   "cell_type": "code",
   "execution_count": 2,
   "id": "4ca74167-2329-4228-b271-c80b81e3eb19",
   "metadata": {},
   "outputs": [
    {
     "name": "stdin",
     "output_type": "stream",
     "text": [
      "Enter the num 1 8\n",
      "Enter the num 2 9\n",
      "Enter the num 3 1\n"
     ]
    },
    {
     "name": "stdout",
     "output_type": "stream",
     "text": [
      "Number second is greter 9\n"
     ]
    }
   ],
   "source": [
    "# 7. Build a program that determines the largest of three given numbers.\n",
    "num1=int(input('Enter the num 1'))\n",
    "num2=int(input('Enter the num 2'))\n",
    "num3=int(input('Enter the num 3'))\n",
    "if num1>num2 and num1>num3 :\n",
    "    print('Number first is greter',num1)\n",
    "elif num2>num1 and num2>num3 :\n",
    "    print('Number second is greter',num2)\n",
    "elif num3>num1 and num3>num2:\n",
    "    print('Number third is greter',num3)"
   ]
  },
  {
   "cell_type": "code",
   "execution_count": 1,
   "id": "f5e7296b-d721-431e-94b4-946bb28abed0",
   "metadata": {},
   "outputs": [
    {
     "name": "stdin",
     "output_type": "stream",
     "text": [
      "ENter the charcter: a\n"
     ]
    },
    {
     "name": "stdout",
     "output_type": "stream",
     "text": [
      "a is a vowel\n"
     ]
    }
   ],
   "source": [
    "# 8. Develop a program that checks whether a character is a vowel or a consonant.\n",
    "vowel='AEIOUaeiou'\n",
    "char=input('ENter the charcter:')\n",
    "for i in char:\n",
    "    if i in vowel:\n",
    "        print(char,'is a vowel')\n",
    "    else:\n",
    "        print(char,'is a consonant')"
   ]
  },
  {
   "cell_type": "code",
   "execution_count": 11,
   "id": "fb5e7d33-0de7-4cff-a24b-27f2b06f3132",
   "metadata": {},
   "outputs": [],
   "source": [
    "# 9. Create a program to calculate the total cost of a shopping cart based on discounts.\n"
   ]
  },
  {
   "cell_type": "code",
   "execution_count": 13,
   "id": "897106ac-2ce1-4278-b13e-c431f53e822e",
   "metadata": {},
   "outputs": [
    {
     "name": "stdin",
     "output_type": "stream",
     "text": [
      "Enter the number 5\n"
     ]
    },
    {
     "name": "stdout",
     "output_type": "stream",
     "text": [
      "5 is a odd number\n"
     ]
    }
   ],
   "source": [
    "# 10. Write a program that checks if a given number is even or odd.\n",
    "num=int(input('Enter the number'))\n",
    "if num%2==0:\n",
    "    print(num,'is a Even Number')\n",
    "else:\n",
    "    print(num,'is a odd number')"
   ]
  },
  {
   "cell_type": "code",
   "execution_count": 3,
   "id": "fa6dc444-931f-4ec3-a9d1-00d91faff299",
   "metadata": {},
   "outputs": [
    {
     "name": "stdin",
     "output_type": "stream",
     "text": [
      "Enter a:  1\n",
      "Enter b:  -5\n",
      "Enter c:  6\n"
     ]
    },
    {
     "name": "stdout",
     "output_type": "stream",
     "text": [
      "The first root:  3.0\n",
      "The second root:  2.0\n"
     ]
    }
   ],
   "source": [
    "# Write a program that calculates the roots of a quadratic equation.\n",
    "a=int(input(\"Enter a: \"))\n",
    "b=int(input(\"Enter b: \"))\n",
    "c=int(input(\"Enter c: \"))\n",
    "d=b**2-4*a*c\n",
    "d1=d**0.5\n",
    "if(d<0):\n",
    "    print(\"The roots are imaginary. \")\n",
    "else:\n",
    "    r1=(-b+d1)/2*a\n",
    "    r2=(-b-d1)/2*a\n",
    "    print(\"The first root: \",round(r1,2))\n",
    "    print(\"The second root: \",round(r2,2))"
   ]
  },
  {
   "cell_type": "code",
   "execution_count": 8,
   "id": "80fa8235-6497-4a2c-8dd3-a38d7b74b5ea",
   "metadata": {},
   "outputs": [
    {
     "name": "stdin",
     "output_type": "stream",
     "text": [
      "Enter the day number from (1-7) 4\n"
     ]
    },
    {
     "name": "stdout",
     "output_type": "stream",
     "text": [
      "Day is Thusday\n"
     ]
    }
   ],
   "source": [
    "# Create a program that determines the day of the week based on the day number (1-7).\n",
    "day=input('Enter the day number from (1-7)')\n",
    "if day=='1':\n",
    "    print('Day is Mondey')\n",
    "elif day=='2':\n",
    "    print('Day is Tuesday')\n",
    "elif day=='3':\n",
    "    print('Day is Wensday')\n",
    "elif day=='4':\n",
    "    print('Day is Thusday')\n",
    "elif day=='5':\n",
    "    print('Day is Friday')\n",
    "elif day=='6':\n",
    "    print('Day is Satarday')\n",
    "elif day=='7':\n",
    "    print('Day is Sunday')\n",
    "else:\n",
    "    print('Enter a valid number')"
   ]
  },
  {
   "cell_type": "code",
   "execution_count": 11,
   "id": "1bc55858-bfd0-4240-8091-3c1d16cb81df",
   "metadata": {},
   "outputs": [
    {
     "data": {
      "text/plain": [
       "120"
      ]
     },
     "execution_count": 11,
     "metadata": {},
     "output_type": "execute_result"
    }
   ],
   "source": [
    "# 13. Develop a program that calculates the factorial of a given number using recursion.\n",
    "def fact(n):\n",
    "    if n==0:\n",
    "        return 1\n",
    "    else:\n",
    "        return n*fact(n-1)\n",
    "fact(5)"
   ]
  },
  {
   "cell_type": "code",
   "execution_count": 17,
   "id": "b6eaa93b-95f3-4631-92a6-6636b5b8dd59",
   "metadata": {},
   "outputs": [
    {
     "name": "stdout",
     "output_type": "stream",
     "text": [
      "250 First number is greter\n"
     ]
    }
   ],
   "source": [
    "# Write a program to find the largest among three numbers without using the `max()` function.\n",
    "a=250\n",
    "b=150\n",
    "c=66\n",
    "if a>b and a>c:\n",
    "    print(a,'First number is greter')\n",
    "elif b>c and b>a:\n",
    "    print(b,'Second number is greter')\n",
    "elif c>a and c>b:\n",
    "    print(c,'Third number is greter')\n",
    "    "
   ]
  },
  {
   "cell_type": "code",
   "execution_count": 12,
   "id": "f9b8629f-7f6d-471b-9a31-c637fc4da194",
   "metadata": {},
   "outputs": [
    {
     "name": "stdout",
     "output_type": "stream",
     "text": [
      "Welcome to Atm Machine \n",
      " 1. Withdraw. \n",
      " 2. Deposit. \n",
      " 3. Check Balance. \n",
      " 4. Exit.\n"
     ]
    },
    {
     "name": "stdin",
     "output_type": "stream",
     "text": [
      "Enter the Atm Trasction You want to Perform: 2\n"
     ]
    },
    {
     "name": "stdout",
     "output_type": "stream",
     "text": [
      "Deposit Succesfull\n"
     ]
    }
   ],
   "source": [
    "# 15. Create a program that simulates a basic ATM transaction menu.\n",
    "print('Welcome to Atm Machine \\n 1. Withdraw. \\n 2. Deposit. \\n 3. Check Balance. \\n 4. Exit.')\n",
    "t=int(input('Enter the Atm Trasction You want to Perform:'))\n",
    "if t==1:\n",
    "    print('Withdraw Succesfull')\n",
    "elif t==2:\n",
    "    print('Deposit Succesfull')\n",
    "elif t==3:\n",
    "    print('Check Balance Succesfull')\n",
    "else:\n",
    "    print('Thank you for Vist')\n",
    "    "
   ]
  },
  {
   "cell_type": "code",
   "execution_count": 3,
   "id": "87bb02b8-cc1c-41b2-9d1a-6a313bff005a",
   "metadata": {},
   "outputs": [
    {
     "name": "stdin",
     "output_type": "stream",
     "text": [
      "Enter the string is palindrone or not rara\n"
     ]
    },
    {
     "name": "stdout",
     "output_type": "stream",
     "text": [
      "String is not a palindrone\n"
     ]
    }
   ],
   "source": [
    "# 16. Build a program that checks if a given string is a palindrome or not.\n",
    "string_pali=input('Enter the string is palindrone or not')\n",
    "if string_pali==string_pali[::-1]:\n",
    "    print('String is Palindrone')\n",
    "else:\n",
    "    print('String is not a palindrone')"
   ]
  },
  {
   "cell_type": "code",
   "execution_count": 23,
   "id": "2ef4a822-c3e8-40ea-a25d-eb746ebf61b4",
   "metadata": {},
   "outputs": [
    {
     "name": "stdout",
     "output_type": "stream",
     "text": [
      "Average of list is 6.0\n"
     ]
    }
   ],
   "source": [
    "# 17. Write a program that calculates the average of a list of numbers, excluding the smallest and largest values.\n",
    "l=[1,23,4,5,6,7,8]\n",
    "l.sort()\n",
    "l.pop(0)\n",
    "l.pop(-1)\n",
    "avg=sum(l)/len(l)\n",
    "print('Average of list is',avg)"
   ]
  },
  {
   "cell_type": "code",
   "execution_count": 25,
   "id": "e3ada85f-461b-4aa6-83d9-09d1db1f05ef",
   "metadata": {},
   "outputs": [
    {
     "name": "stdin",
     "output_type": "stream",
     "text": [
      "Enter the Temperature in celsius: 40\n"
     ]
    },
    {
     "name": "stdout",
     "output_type": "stream",
     "text": [
      "Fahrenhiet tempreture after convert 104.0\n"
     ]
    }
   ],
   "source": [
    "# 18. Develop a program that converts a given temperature from Celsius to Fahrenheit.\n",
    "celsius=float(input('Enter the Temperature in celsius:'))\n",
    "Fahrenhiet = celsius * (9/5) + 32\n",
    "print('Fahrenhiet tempreture after convert',Fahrenhiet)"
   ]
  },
  {
   "cell_type": "code",
   "execution_count": 29,
   "id": "76208edd-57c7-440e-a8c8-67490ad6df36",
   "metadata": {},
   "outputs": [
    {
     "name": "stdin",
     "output_type": "stream",
     "text": [
      "Enter the Opreator * , + ,- , /:: +\n",
      "Enter the first Number 4\n",
      "Enter the Second Number 9\n"
     ]
    },
    {
     "name": "stdout",
     "output_type": "stream",
     "text": [
      "Addtion of two number is 13\n"
     ]
    }
   ],
   "source": [
    "# 19. Create a program that simulates a basic calculator for addition, subtraction, multiplication, and division.\n",
    "opretor=input('Enter the Opreator * , + ,- , /::')\n",
    "a=int(input('Enter the first Number'))\n",
    "b=int(input('Enter the Second Number'))\n",
    "if opretor=='+':\n",
    "    print('Addtion of two number is',a+b)\n",
    "elif opretor=='-':\n",
    "    print('Subtarction of two number is',a-b)\n",
    "elif opretor=='*':\n",
    "    print('Multi of two number is',a*b)\n",
    "elif opretor=='/':\n",
    "    print('division of two number is',a/b)\n",
    "else:\n",
    "    print('Enter a correct opreator')"
   ]
  },
  {
   "cell_type": "code",
   "execution_count": 2,
   "id": "02a5179c-c4ec-464f-a25d-948ec325e457",
   "metadata": {},
   "outputs": [
    {
     "name": "stdout",
     "output_type": "stream",
     "text": [
      "Roots: [2.0, (2+0j), (2+0j)]\n"
     ]
    }
   ],
   "source": [
    "# 20. Write a program that determines the roots of a cubic equation using the Cardano formula.\n",
    "def cubic_solver(a, b, c, d):\n",
    "    p = (3 * a * c - b**2) / (3 * a**2)\n",
    "    q = (2 * b**3 - 9 * a * b * c + 27 * a**2 * d) / (27 * a**3)\n",
    "    delta = q**2 / 4 + p**3 / 27\n",
    "\n",
    "    if delta > 0:\n",
    "        u = (-q / 2 + delta**0.5)**(1 / 3)\n",
    "        v = (-q / 2 - delta**0.5)**(1 / 3)\n",
    "        root = u + v - b / (3 * a)\n",
    "        return [root]\n",
    "\n",
    "    elif delta == 0:\n",
    "        if q < 0:\n",
    "            root = (-q / 2)**(1 / 3)\n",
    "        else:\n",
    "            root = (-q / 2)**(1 / 3) * (-1)\n",
    "        return [2 * root - b / (3 * a)]\n",
    "\n",
    "    else:\n",
    "        phi = ((27 * a**2 * -q) / 2)**0.5\n",
    "        u = ((-q / 2) + phi)**(1 / 3)\n",
    "        v = ((-q / 2) - phi)**(1 / 3)\n",
    "        root1 = u + v - b / (3 * a)\n",
    "        omega = complex(-0.5, ((3**0.5) / 2))\n",
    "        root2 = (u * omega) + (v * omega**2) - b / (3 * a)\n",
    "        root3 = (u * omega**2) + (v * omega) - b / (3 * a)\n",
    "        return [root1, root2, root3]\n",
    "a = 1\n",
    "b = -6\n",
    "c = 11\n",
    "d = -6\n",
    "\n",
    "roots = cubic_solver(a, b, c, d)\n",
    "print(\"Roots:\", roots)\n"
   ]
  },
  {
   "cell_type": "code",
   "execution_count": 1,
   "id": "781508d6-df0b-4622-ada8-4d3b319111ad",
   "metadata": {},
   "outputs": [
    {
     "name": "stdin",
     "output_type": "stream",
     "text": [
      "Enter the income based on a user: 1000001\n"
     ]
    },
    {
     "name": "stdout",
     "output_type": "stream",
     "text": [
      "you owe 75000.2 Rupees in tax!\n"
     ]
    }
   ],
   "source": [
    "# 21. Create a program that calculates the income tax based on the user's income and tax brackets.\n",
    "income=int(input('Enter the income based on a user:'))\n",
    "if income<=250000:\n",
    "    tax=0\n",
    "elif income<=500000:\n",
    "    tax=(income-250000)*0.05\n",
    "elif income<=750000:\n",
    "    tax=(income-500000)*0.10+12500\n",
    "elif income<=1000000:\n",
    "    tax=(income-750000)*0.15+37500\n",
    "elif income<=1250000:\n",
    "    tax=(income-1000000)*0.20+75000\n",
    "elif income<=1500000:\n",
    "    tax=(income-1000000)*0.25+125000\n",
    "else:\n",
    "    tax = (income-1500000) * 0.30 + 187500\n",
    "print(\"you owe\", tax, \"Rupees in tax!\")"
   ]
  },
  {
   "cell_type": "code",
   "execution_count": 4,
   "id": "3306e63a-437c-4c36-ba9b-d99ae3f09f18",
   "metadata": {},
   "outputs": [
    {
     "name": "stdin",
     "output_type": "stream",
     "text": [
      "Enter a choice first letter in cap (Rock,Paper,Scissors Paper\n"
     ]
    },
    {
     "name": "stdout",
     "output_type": "stream",
     "text": [
      "player choice Paper\n",
      "computer choice Scissors\n",
      "YOu lose!\n"
     ]
    }
   ],
   "source": [
    "# 22. Write a program that simulates a rock-paper-scissors game against the computer.\n",
    "import random\n",
    "\n",
    "option=('Rock','Paper','Scissors')\n",
    "player=None\n",
    "computer=random.choice(option)\n",
    "\n",
    "while player not in option:\n",
    "    player=input('Enter a choice first letter in cap (Rock,Paper,Scissors')\n",
    "print('player choice',player)\n",
    "print('computer choice',computer)\n",
    "\n",
    "if player==computer:\n",
    "    print('It a tie')\n",
    "elif player=='Rock' and computer=='Scissors':\n",
    "    print('You win')\n",
    "elif player=='Scissors' and computer=='Paper':\n",
    "    print('You win')\n",
    "elif player=='Paper' and computer=='Rock':\n",
    "    print('You win')\n",
    "else:\n",
    "    print('YOu lose!')"
   ]
  },
  {
   "cell_type": "code",
   "execution_count": 1,
   "id": "879091a7-5a78-49e4-a96d-0e04d0ddd905",
   "metadata": {},
   "outputs": [
    {
     "name": "stdin",
     "output_type": "stream",
     "text": [
      "Enter the desired password length:  10\n",
      "Include uppercase letters? (y/n):  yes\n",
      "Include lowercase letters? (y/n):  yes\n",
      "Include digits? (y/n):  n\n",
      "Include special characters? (y/n):  n\n"
     ]
    },
    {
     "name": "stdout",
     "output_type": "stream",
     "text": [
      "Your generated password is: f#GSEoE4cM\n"
     ]
    }
   ],
   "source": [
    "# 23. Develop a program that generates a random password based on user preferences (length, complexity).\n",
    "import random\n",
    "import string\n",
    "password_length = int(input(\"Enter the desired password length: \"))\n",
    "include_uppercase = input(\"Include uppercase letters? (y/n): \")\n",
    "include_lowercase = input(\"Include lowercase letters? (y/n): \")\n",
    "include_digits = input(\"Include digits? (y/n): \")\n",
    "include_special = input(\"Include special characters? (y/n): \")\n",
    "\n",
    "characters = ''\n",
    "if include_uppercase:\n",
    "    characters += string.ascii_uppercase\n",
    "if include_lowercase:\n",
    "    characters += string.ascii_lowercase\n",
    "if include_digits:\n",
    "    characters += string.digits\n",
    "if include_special:\n",
    "    characters += string.punctuation\n",
    "\n",
    "if not characters:\n",
    "    print(\"You must select at least one character set.\")\n",
    "else:\n",
    "    password = ''.join(random.choice(characters) for _ in range(password_length))\n",
    "    print(\"Your generated password is:\", password)\n"
   ]
  },
  {
   "cell_type": "code",
   "execution_count": 5,
   "id": "559d3afb-3031-4b80-b9bd-ea7ef292ca12",
   "metadata": {},
   "outputs": [
    {
     "name": "stdout",
     "output_type": "stream",
     "text": [
      "Welcome to the Text-Based Adventure Game!\n",
      "You find yourself in a dark forest. What would you like to do?\n",
      "1. Go deeper into the forest.\n",
      "2. Climb a tree to get a better view.\n"
     ]
    },
    {
     "name": "stdin",
     "output_type": "stream",
     "text": [
      "Enter your choice (1 or 2):  1\n"
     ]
    },
    {
     "name": "stdout",
     "output_type": "stream",
     "text": [
      "You venture deeper into the forest and encounter a wild animal!\n",
      "What do you want to do?\n",
      "1. Fight the animal.\n",
      "2. Try to run away.\n"
     ]
    },
    {
     "name": "stdin",
     "output_type": "stream",
     "text": [
      "Enter your choice (1 or 2):  2\n"
     ]
    },
    {
     "name": "stdout",
     "output_type": "stream",
     "text": [
      "You run away from the wild animal and find a hidden treasure!\n",
      "Congratulations! You win!\n"
     ]
    }
   ],
   "source": [
    "# Create a program that implements a simple text-based adventure game with branching scenarios.\n",
    "print(\"Welcome to the Text-Based Adventure Game\")\n",
    "\n",
    "print(\"You find yourself in a dark forest. What would you like to do?\")\n",
    "print(\"1. Go deeper into the forest.\")\n",
    "print(\"2. Climb a tree to get a better view.\")\n",
    "choice1 = input(\"Enter your choice (1 or 2): \")\n",
    "if choice1 == '1':\n",
    "    print(\"You venture deeper into the forest and encounter a wild animal!\")\n",
    "    print(\"What do you want to do?\")\n",
    "    print(\"1. Fight the animal.\")\n",
    "    print(\"2. Try to run away.\")\n",
    "    choice2 = input(\"Enter your choice (1 or 2): \")\n",
    "\n",
    "    if choice2 == '1':\n",
    "        print(\"You fought the animal and managed to escape, but you got injured.\")\n",
    "        print(\"Game Over!\")\n",
    "    elif choice2 == '2':\n",
    "        print(\"You run away from the wild animal and find a hidden treasure!\")\n",
    "        print(\"Congratulations! You win!\")\n",
    "    else:\n",
    "        print(\"Invalid choice. Game Over!\")\n",
    "elif choice1 == '2':\n",
    "    print(\"You climb a tree and get a better view of the forest.\")\n",
    "    print(\"You spot a cave in the distance and a river nearby.\")\n",
    "    print(\"What would you like to do?\")\n",
    "    print(\"1. Go towards the cave.\")\n",
    "    print(\"2. Follow the river.\")\n",
    "\n",
    "    choice3 = input(\"Enter your choice (1 or 2): \")\n",
    "    if choice3 == '1':\n",
    "        print(\"You enter the cave and find a sleeping dragon!\")\n",
    "        print(\"What do you want to do?\")\n",
    "        print(\"1. Try to sneak past the dragon.\")\n",
    "        print(\"2. Wake up the dragon and fight.\")\n",
    "\n",
    "        choice4 = input(\"Enter your choice (1 or 2): \")\n",
    "\n",
    "        if choice4 == '1':\n",
    "            print(\"You manage to sneak past the dragon and find a treasure chest!\")\n",
    "            print(\"Congratulations! You win!\")\n",
    "        elif choice4 == '2':\n",
    "            print(\"You wake up the dragon and try to fight, but you are no match for its strength.\")\n",
    "            print(\"Game Over!\")\n",
    "        else:\n",
    "            print(\"Invalid choice. Game Over!\")\n",
    "    elif choice3 == '2':\n",
    "        print(\"You follow the river and find a friendly village.\")\n",
    "        print(\"Congratulations! You find safety and win!\")\n",
    "    else:\n",
    "        print(\"Invalid choice. Game Over!\")\n",
    "else:\n",
    "    print(\"Invalid choice. Game Over!\")\n"
   ]
  },
  {
   "cell_type": "code",
   "execution_count": 2,
   "id": "0256d064-1903-4283-912e-58eee4624f58",
   "metadata": {},
   "outputs": [
    {
     "name": "stdin",
     "output_type": "stream",
     "text": [
      "Enter a coefficient a:: 9\n",
      "Enter a coefficient b:: 15\n"
     ]
    },
    {
     "name": "stdout",
     "output_type": "stream",
     "text": [
      "The solution for the linear equation 9.00x + 15.00 = 0 is x = -1.67\n"
     ]
    }
   ],
   "source": [
    "# 25. Build a program that solves a linear equation for x, considering different cases.\n",
    "a=float(input('Enter a coefficient a::'))\n",
    "b=float(input('Enter a coefficient b::'))\n",
    "\n",
    "if a == 0:\n",
    "    if b == 0:\n",
    "        print(\"The equation is indeterminate (0x = 0)\")\n",
    "    else:\n",
    "        print(\"The equation is inconsistent (0x = {})\".format(b))\n",
    "else:\n",
    "    x = -b / a\n",
    "    print(\"The solution for the linear equation {:.2f}x + {:.2f} = 0 is x = {:.2f}\".format(a, b, x))\n"
   ]
  },
  {
   "cell_type": "code",
   "execution_count": 2,
   "id": "644f8a6e-a0f6-462d-b99b-f04d5d775cf6",
   "metadata": {},
   "outputs": [
    {
     "name": "stdout",
     "output_type": "stream",
     "text": [
      "*--Welcome to Basic quiz Game--*\n"
     ]
    },
    {
     "name": "stdin",
     "output_type": "stream",
     "text": [
      "Enter you want to start quiz (yes/no) yes\n",
      "1)Which is the National bird of india? \n",
      " a)Tiger \n",
      " b)Peacock \n",
      " c)sparrow \n",
      " d)Parrots:\n",
      " b\n",
      "2)who is pm of india? \n",
      " a)Kunal \n",
      " b)Narendra Modi \n",
      " c)Yogi Adityanath  \n",
      " d)Amit Shah\n",
      " b\n",
      "3)How many states question and answer in India? \n",
      " a)28 \n",
      " b)54 \n",
      " c)24 \n",
      " d)26:\n",
      " a\n"
     ]
    },
    {
     "name": "stdout",
     "output_type": "stream",
     "text": [
      "You win the Quiz and prize\n",
      "Your score is 3\n"
     ]
    }
   ],
   "source": [
    "# 26. Write a program that simulates a basic quiz game with multiple-choice questions and scoring.\n",
    "print('*--Welcome to Basic quiz Game--*')\n",
    "choice=input('Enter you want to start quiz (yes/no)').lower()\n",
    "score=0\n",
    "if choice=='yes':\n",
    "    choice_1=input('1)Which is the National bird of india? \\n a)Tiger \\n b)Peacock \\n c)sparrow \\n d)Parrots:\\n')\n",
    "    if choice_1=='b':\n",
    "        score1=1\n",
    "    else:\n",
    "        score1=0\n",
    "\n",
    "    choice_2=input('2)who is pm of india? \\n a)Kunal \\n b)Narendra Modi \\n c)Yogi Adityanath  \\n d)Amit Shah\\n')\n",
    "    if choice_2=='b':\n",
    "        score2=1\n",
    "    else:\n",
    "        score2=0\n",
    "    choice_3=input('3)How many states question and answer in India? \\n a)28 \\n b)54 \\n c)24 \\n d)26:\\n')\n",
    "    if choice_3=='a':       \n",
    "        score3=1\n",
    "    else:\n",
    "        score3=0\n",
    "        \n",
    "    if choice_1=='b' and choice_2=='b' and choice_3=='a':\n",
    "        print('You win the Quiz and prize')\n",
    "    else:\n",
    "        print('You loss the Quiz and prize')\n",
    "    score=score1+score2+score3\n",
    "    print('Your score is',score)\n",
    "else:\n",
    "    print('Enter a correct yes or no')"
   ]
  },
  {
   "cell_type": "code",
   "execution_count": 26,
   "id": "a1a1f1a6-d44f-4bdf-8934-41ba27737cc9",
   "metadata": {},
   "outputs": [
    {
     "name": "stdin",
     "output_type": "stream",
     "text": [
      "Enter  a year 89\n"
     ]
    },
    {
     "name": "stdout",
     "output_type": "stream",
     "text": [
      "given year is a prime number\n"
     ]
    }
   ],
   "source": [
    "# 27. Develop a program that determines whether a given year is a prime number or not.\n",
    "year=int(input('Enter  a year'))\n",
    "if year<2:\n",
    "    print('Year can not be less than 2')\n",
    "else:\n",
    "    is_prime=True\n",
    "    for i in range(2, int(year**0.5) + 1):\n",
    "        if year % i == 0:\n",
    "            is_prime=False\n",
    "            break\n",
    "    \n",
    "if is_prime:\n",
    "        print(\"given year is a prime number\")\n",
    "else:\n",
    "    print(\"given year is not a prime number\")"
   ]
  },
  {
   "cell_type": "code",
   "execution_count": 35,
   "id": "dfd82bda-9e05-4355-9242-5243f2234759",
   "metadata": {},
   "outputs": [
    {
     "name": "stdin",
     "output_type": "stream",
     "text": [
      "Enter first number:  48\n",
      "Enter second number:  4\n",
      "Enter third number:  1\n"
     ]
    },
    {
     "name": "stdout",
     "output_type": "stream",
     "text": [
      "Numbers in ascending order: 1 4 48\n"
     ]
    }
   ],
   "source": [
    "# 28. Create a program that sorts three numbers in ascending order using conditional statements.\n",
    "# Input three numbers\n",
    "num1 = int(input(\"Enter first number: \"))\n",
    "num2 = int(input(\"Enter second number: \"))\n",
    "num3 = int(input(\"Enter third number: \"))\n",
    "if num1 > num2:\n",
    "    num1, num2 = num2, num1\n",
    "if num2 > num3:\n",
    "    num2, num3 = num3, num2\n",
    "if num1 > num2:\n",
    "    num1, num2 = num2, num1\n",
    "print(\"Numbers in ascending order:\", num1, num2, num3)\n"
   ]
  },
  {
   "cell_type": "code",
   "execution_count": 1,
   "id": "27580088-7453-4822-b01b-63d087de8a9c",
   "metadata": {},
   "outputs": [
    {
     "name": "stdout",
     "output_type": "stream",
     "text": [
      "Root found: 2.000000\n"
     ]
    }
   ],
   "source": [
    "# 29. Build a program that determines the roots of a quartic equation using numerical methods.\n",
    "a = 1.0\n",
    "b = -10.0\n",
    "c = 35.0\n",
    "d = -50.0\n",
    "e = 24.0\n",
    "x_initial = 2.0\n",
    "tolerance = 1e-6\n",
    "max_iterations = 1000\n",
    "iteration = 0\n",
    "x_current = x_initial\n",
    "while iteration < max_iterations:\n",
    "    f_x = a * (x_current ** 4) + b * (x_current ** 3) + c * (x_current ** 2) + d * x_current + e\n",
    "    f_prime_x = 4 * a * (x_current ** 3) + 3 * b * (x_current ** 2) + 2 * c * x_current + d\n",
    "    x_next = x_current - f_x / f_prime_x\n",
    "    if abs(x_next - x_current) < tolerance:\n",
    "        break\n",
    "    x_current = x_next\n",
    "    iteration += 1\n",
    "if iteration < max_iterations:\n",
    "    print(\"Root found: {:.6f}\".format(x_current))\n",
    "else:\n",
    "    print(\"Maximum iterations reached. No root found within the specified tolerance.\")\n"
   ]
  },
  {
   "cell_type": "code",
   "execution_count": 1,
   "id": "d72b8746-30bc-4661-a0a8-aad7b317d3e7",
   "metadata": {},
   "outputs": [
    {
     "name": "stdin",
     "output_type": "stream",
     "text": [
      "Enter your height in meters: 1.734312\n",
      "Enter your weight in kilograms: 58\n"
     ]
    },
    {
     "name": "stdout",
     "output_type": "stream",
     "text": [
      "19.28295267710329\n",
      "Your BMI is in the normal range. Keep maintaining a healthy lifestyle.\n"
     ]
    }
   ],
   "source": [
    "# 30. Write a program that calculates the BMI (Body Mass Index) and provides health recommendations based on the user's input.\n",
    "height=float(input('Enter your height in meters:'))\n",
    "weight=float(input('Enter your weight in kilograms:'))\n",
    "body_mass=weight/(height**2)\n",
    "print(body_mass)\n",
    "if body_mass<=18.5:\n",
    "    print('You are underweight. It is important to maintain a balanced diet and consult a healthcare professional.')\n",
    "elif body_mass>=18.5 or body_masst<=24.9:\n",
    "    print('Your BMI is in the normal range. Keep maintaining a healthy lifestyle.')\n",
    "elif body_mass>=25.0 or body_mass<=29.9:\n",
    "    print('You are overweight. Consider exercising regularly and improving your diet.')\n",
    "else:\n",
    "    print('You are obese. It is important to consult a healthcare professional for guidance.')"
   ]
  },
  {
   "cell_type": "code",
   "execution_count": 2,
   "id": "bae578ab-e7d2-44df-865a-c5073d18f6d1",
   "metadata": {},
   "outputs": [
    {
     "name": "stdin",
     "output_type": "stream",
     "text": [
      "Enter the desired password length:  6\n",
      "Include uppercase letters? (y/n):  y\n",
      "Include lowercase letters? (y/n):  y\n",
      "Include digits? (y/n):  n\n",
      "Include special characters? (y/n):  y\n"
     ]
    },
    {
     "name": "stdout",
     "output_type": "stream",
     "text": [
      "Your generated password is: GQJt7q\n"
     ]
    }
   ],
   "source": [
    "# 31. Create a program that validates a password based on complexity rules (length, characters, etc.).\n",
    "import random\n",
    "import string\n",
    "password_length = int(input(\"Enter the desired password length: \"))\n",
    "include_uppercase = input(\"Include uppercase letters? (y/n): \")\n",
    "include_lowercase = input(\"Include lowercase letters? (y/n): \")\n",
    "include_digits = input(\"Include digits? (y/n): \")\n",
    "include_special = input(\"Include special characters? (y/n): \")\n",
    "\n",
    "characters = ''\n",
    "if include_uppercase:\n",
    "    characters += string.ascii_uppercase\n",
    "if include_lowercase:\n",
    "    characters += string.ascii_lowercase\n",
    "if include_digits:\n",
    "    characters += string.digits\n",
    "if include_special:\n",
    "    characters += string.punctuation\n",
    "\n",
    "if not characters:\n",
    "    print(\"You must select at least one character set.\")\n",
    "else:\n",
    "    password = ''.join(random.choice(characters) for _ in range(password_length))\n",
    "    print(\"Your generated password is:\", password)\n"
   ]
  },
  {
   "cell_type": "code",
   "execution_count": 2,
   "id": "c8f99db7-749e-487f-b04a-9b9425133787",
   "metadata": {},
   "outputs": [
    {
     "name": "stdin",
     "output_type": "stream",
     "text": [
      "Enter the number of rows:  2\n",
      "Enter the number of columns:  2\n"
     ]
    },
    {
     "name": "stdout",
     "output_type": "stream",
     "text": [
      "Enter elements of the first matrix:\n"
     ]
    },
    {
     "name": "stdin",
     "output_type": "stream",
     "text": [
      "Enter element at position :  4\n",
      "Enter element at position :  2\n",
      "Enter element at position :  4\n",
      "Enter element at position :  1\n"
     ]
    },
    {
     "name": "stdout",
     "output_type": "stream",
     "text": [
      "Enter elements of the second matrix:\n"
     ]
    },
    {
     "name": "stdin",
     "output_type": "stream",
     "text": [
      "Enter element at position :  5\n",
      "Enter element at position :  1\n",
      "Enter element at position :  4\n",
      "Enter element at position :  2\n"
     ]
    },
    {
     "name": "stdout",
     "output_type": "stream",
     "text": [
      "Matrix Addition Result:\n",
      "9.0\t3.0\t\n",
      "8.0\t3.0\t\n",
      "Matrix Subtraction Result:\n",
      "-1.0\t1.0\t\n",
      "0.0\t-1.0\t\n"
     ]
    }
   ],
   "source": [
    "# 32. Develop a program that performs matrix addition and subtraction based on user input.\n",
    "# Input matrix dimensions\n",
    "rows = int(input(\"Enter the number of rows: \"))\n",
    "cols = int(input(\"Enter the number of columns: \"))\n",
    "\n",
    "matrix1 = []\n",
    "matrix2 = []\n",
    "\n",
    "print(\"Enter elements of the first matrix:\")\n",
    "for i in range(rows):\n",
    "    row = []\n",
    "    for j in range(cols):\n",
    "        element = float(input(\"Enter element at position : \"))\n",
    "        row.append(element)\n",
    "    matrix1.append(row)\n",
    "\n",
    "print(\"Enter elements of the second matrix:\")\n",
    "for i in range(rows):\n",
    "    row = []\n",
    "    for j in range(cols):\n",
    "        element = float(input(\"Enter element at position : \"))\n",
    "        row.append(element)\n",
    "    matrix2.append(row)\n",
    "\n",
    "result_addition = []\n",
    "for i in range(rows):\n",
    "    row = []\n",
    "    for j in range(cols):\n",
    "        sum_element = matrix1[i][j] + matrix2[i][j]\n",
    "        row.append(sum_element)\n",
    "    result_addition.append(row)\n",
    "\n",
    "result_subtraction = []\n",
    "for i in range(rows):\n",
    "    row = []\n",
    "    for j in range(cols):\n",
    "        diff_element = matrix1[i][j] - matrix2[i][j]\n",
    "        row.append(diff_element)\n",
    "    result_subtraction.append(row)\n",
    "\n",
    "print(\"Matrix Addition Result:\")\n",
    "for i in range(rows):\n",
    "    for j in range(cols):\n",
    "        print(result_addition[i][j], end=\"\\t\")\n",
    "    print()\n",
    "\n",
    "print(\"Matrix Subtraction Result:\")\n",
    "for i in range(rows):\n",
    "    for j in range(cols):\n",
    "        print(result_subtraction[i][j], end=\"\\t\")\n",
    "    print()\n"
   ]
  },
  {
   "cell_type": "code",
   "execution_count": 3,
   "id": "26b7a977-bbcf-485d-bbf9-f00cfca9b726",
   "metadata": {},
   "outputs": [
    {
     "name": "stdin",
     "output_type": "stream",
     "text": [
      "Enter the first number 49\n",
      "Enter the second Number 21\n"
     ]
    },
    {
     "name": "stdout",
     "output_type": "stream",
     "text": [
      "The Greatest Common Divisor (GCD) is: 7\n"
     ]
    }
   ],
   "source": [
    "# 33. Write a program that calculates the greatest common divisor (GCD) of two numbers using the Euclidean algorithm.\n",
    "n=int(input('Enter the first number'))\n",
    "m=int(input('Enter the second Number'))\n",
    "if n<m:\n",
    "    n,m=m,n\n",
    "while m!=0:\n",
    "    temp=m\n",
    "    m=n%m\n",
    "    n=temp\n",
    "print(\"The Greatest Common Divisor (GCD) is:\", n)\n",
    "    "
   ]
  },
  {
   "cell_type": "code",
   "execution_count": 2,
   "id": "ea91dc9b-004c-485d-b11a-03c3cc679dc8",
   "metadata": {},
   "outputs": [
    {
     "name": "stdin",
     "output_type": "stream",
     "text": [
      "Enter the number of rows:  2\n",
      "Enter the number of columns:  2\n"
     ]
    },
    {
     "name": "stdout",
     "output_type": "stream",
     "text": [
      "Enter elements of the first matrix:\n"
     ]
    },
    {
     "name": "stdin",
     "output_type": "stream",
     "text": [
      "Enter element at position :  2\n",
      "Enter element at position :  2\n",
      "Enter element at position :  2\n",
      "Enter element at position :  2\n"
     ]
    },
    {
     "name": "stdout",
     "output_type": "stream",
     "text": [
      "Enter elements of the second matrix:\n"
     ]
    },
    {
     "name": "stdin",
     "output_type": "stream",
     "text": [
      "Enter element at position :  2\n",
      "Enter element at position :  2\n",
      "Enter element at position :  2\n",
      "Enter element at position :  2\n"
     ]
    },
    {
     "name": "stdout",
     "output_type": "stream",
     "text": [
      "Matrix multiplication Result:\n",
      "4.0\t4.0\t\n",
      "4.0\t4.0\t\n"
     ]
    }
   ],
   "source": [
    "# 34. Build a program that performs matrix multiplication using nested loops and conditional statements\n",
    "rows = int(input(\"Enter the number of rows: \"))\n",
    "cols = int(input(\"Enter the number of columns: \"))\n",
    "\n",
    "matrix1 = []\n",
    "matrix2 = []\n",
    "\n",
    "print(\"Enter elements of the first matrix:\")\n",
    "for i in range(rows):\n",
    "    row = []\n",
    "    for j in range(cols):\n",
    "        element = float(input(\"Enter element at position : \"))\n",
    "        row.append(element)\n",
    "    matrix1.append(row)\n",
    "\n",
    "print(\"Enter elements of the second matrix:\")\n",
    "for i in range(rows):\n",
    "    row = []\n",
    "    for j in range(cols):\n",
    "        element = float(input(\"Enter element at position : \"))\n",
    "        row.append(element)\n",
    "    matrix2.append(row)\n",
    "\n",
    "result_mul = []\n",
    "for i in range(rows):\n",
    "    row = []\n",
    "    for j in range(cols):\n",
    "        sum_element = matrix1[i][j] * matrix2[i][j]\n",
    "        row.append(sum_element)\n",
    "    result_mul.append(row)\n",
    "print(\"Matrix multiplication Result:\")\n",
    "for i in range(rows):\n",
    "    for j in range(cols):\n",
    "        print(result_mul[i][j], end=\"\\t\")\n",
    "    print()"
   ]
  },
  {
   "cell_type": "code",
   "execution_count": 3,
   "id": "cb51dc67-0308-4b5c-bd7b-d8c9263455ba",
   "metadata": {},
   "outputs": [
    {
     "name": "stdout",
     "output_type": "stream",
     "text": [
      "   |   |   \n",
      "---+---+---\n",
      "   |   |   \n",
      "---+---+---\n",
      "   |   |   \n"
     ]
    },
    {
     "name": "stdin",
     "output_type": "stream",
     "text": [
      "Enter your move (1-9):  1\n"
     ]
    },
    {
     "name": "stdout",
     "output_type": "stream",
     "text": [
      " X |   |   \n",
      "---+---+---\n",
      "   |   |   \n",
      "---+---+---\n",
      " O |   |   \n"
     ]
    },
    {
     "name": "stdin",
     "output_type": "stream",
     "text": [
      "Enter your move (1-9):  5\n"
     ]
    },
    {
     "name": "stdout",
     "output_type": "stream",
     "text": [
      " X |   |   \n",
      "---+---+---\n",
      "   | X | O \n",
      "---+---+---\n",
      " O |   |   \n"
     ]
    },
    {
     "name": "stdin",
     "output_type": "stream",
     "text": [
      "Enter your move (1-9):  9\n"
     ]
    },
    {
     "name": "stdout",
     "output_type": "stream",
     "text": [
      " X |   |   \n",
      "---+---+---\n",
      "   | X | O \n",
      "---+---+---\n",
      " O |   | X \n",
      "Congratulations! You win!\n"
     ]
    }
   ],
   "source": [
    "# 35. Create a program that simulates a basic text-based tic-tac-toe game against the computer.\n",
    "import random\n",
    "board = [\" \" for _ in range(9)]\n",
    "def display_board():\n",
    "    print(f\" {board[0]} | {board[1]} | {board[2]} \")\n",
    "    print(\"---+---+---\")\n",
    "    print(f\" {board[3]} | {board[4]} | {board[5]} \")\n",
    "    print(\"---+---+---\")\n",
    "    print(f\" {board[6]} | {board[7]} | {board[8]} \")\n",
    "def check_win(player):\n",
    "    winning_combinations = [(0, 1, 2), (3, 4, 5), (6, 7, 8),\n",
    "                            (0, 3, 6), (1, 4, 7), (2, 5, 8),\n",
    "                            (0, 4, 8), (2, 4, 6)]\n",
    "    for combo in winning_combinations:\n",
    "        if all(board[i] == player for i in combo):\n",
    "            return True\n",
    "    return False\n",
    "while \" \" in board:\n",
    "\n",
    "    display_board()\n",
    "    player_move = int(input(\"Enter your move (1-9): \")) - 1\n",
    "    if board[player_move] == \" \":\n",
    "        board[player_move] = \"X\"\n",
    "    else:\n",
    "        print(\"Cell already taken. Try again.\")\n",
    "        continue\n",
    "    if check_win(\"X\"):\n",
    "        display_board()\n",
    "        print(\"Congratulations! You win!\")\n",
    "        break\n",
    "\n",
    "    computer_move = random.choice([i for i in range(9) if board[i] == \" \"])\n",
    "    if board[computer_move] == \" \":\n",
    "        board[computer_move] = \"O\"\n",
    "    if check_win(\"O\"):\n",
    "        display_board()\n",
    "        print(\"Computer wins!\")\n",
    "        break\n",
    "if \" \" not in board and not check_win(\"X\") and not check_win(\"O\"):\n",
    "    display_board()\n",
    "    print(\"It's a tie!\")\n"
   ]
  },
  {
   "cell_type": "code",
   "execution_count": 3,
   "id": "e06b69a0-ec88-4673-8f2b-03abdf267a80",
   "metadata": {},
   "outputs": [
    {
     "name": "stdin",
     "output_type": "stream",
     "text": [
      "Enter the number of Fibonacci terms to generate:  5\n"
     ]
    },
    {
     "name": "stdout",
     "output_type": "stream",
     "text": [
      "Fibonacci Sequence:\n",
      "0 1 1 2 3 "
     ]
    }
   ],
   "source": [
    "# 36. Write a program that generates Fibonacci numbers up to a specified term using iterative methods.\n",
    "n = int(input(\"Enter the number of Fibonacci terms to generate: \"))\n",
    "fibonacci_sequence = [0, 1]\n",
    "for i in range(2, n):\n",
    "    next_term = fibonacci_sequence[-1] + fibonacci_sequence[-2]\n",
    "    fibonacci_sequence.append(next_term)\n",
    "print(\"Fibonacci Sequence:\")\n",
    "for term in fibonacci_sequence:\n",
    "    print(term, end=\" \")\n"
   ]
  },
  {
   "cell_type": "code",
   "execution_count": 4,
   "id": "4681f08b-068e-4002-b1db-763b93b021d7",
   "metadata": {},
   "outputs": [
    {
     "name": "stdin",
     "output_type": "stream",
     "text": [
      "Enter the value of n:  45\n"
     ]
    },
    {
     "name": "stdout",
     "output_type": "stream",
     "text": [
      "The 45th Fibonacci number is: 1134903170\n"
     ]
    }
   ],
   "source": [
    "# 37. Develop a program that calculates the nth term of the Fibonacci sequence using memoization.\n",
    "fib_memo = {}\n",
    "n = int(input(\"Enter the value of n: \"))\n",
    "fib_memo[0] = 0\n",
    "fib_memo[1] = 1\n",
    "for i in range(2, n + 1):\n",
    "    fib_memo[i] = fib_memo[i - 1] + fib_memo[i - 2]\n",
    "print(f\"The {n}th Fibonacci number is: {fib_memo[n]}\")\n"
   ]
  },
  {
   "cell_type": "code",
   "execution_count": 5,
   "id": "d929ee4f-d812-4a38-971e-8bed14d38031",
   "metadata": {},
   "outputs": [
    {
     "name": "stdin",
     "output_type": "stream",
     "text": [
      "Enter the year:  2023\n",
      "Enter the month (1-12):  10\n"
     ]
    },
    {
     "name": "stdout",
     "output_type": "stream",
     "text": [
      "Calendar for 10/2023:\n",
      "Mo Tu We Th Fr Sa Su\n",
      "  1 2 3 4 5 6 7\n",
      "  8 91011121314\n",
      " 15161718192021\n",
      " 22232425262728\n",
      " 293031\n"
     ]
    }
   ],
   "source": [
    "# 38. Create a program that generates a calendar for a given month and year using conditional statements.\n",
    "year = int(input(\"Enter the year: \"))\n",
    "month = int(input(\"Enter the month (1-12): \"))\n",
    "days_in_month = 31\n",
    "if month == 4 or month == 6 or month == 9 or month == 11:\n",
    "    days_in_month = 30\n",
    "elif month == 2:\n",
    "    if (year % 4 == 0 and year % 100 != 0) or (year % 400 == 0):\n",
    "        days_in_month = 29\n",
    "    else:\n",
    "        days_in_month = 28\n",
    "print(\"Calendar for {}/{}:\".format(month, year))\n",
    "print(\"Mo Tu We Th Fr Sa Su\")\n",
    "current_day = 1\n",
    "weekday = 0 \n",
    "while current_day <= days_in_month:\n",
    "    if weekday == 0:\n",
    "        print(\" \", end=\"\")\n",
    "    print(\"{:2d}\".format(current_day), end=\"\")\n",
    "    current_day += 1\n",
    "    weekday = (weekday + 1) % 7\n",
    "    if weekday == 0:\n",
    "        print()\n",
    "if weekday != 0:\n",
    "    print()\n"
   ]
  },
  {
   "cell_type": "code",
   "execution_count": 6,
   "id": "37ed8357-8129-46fc-a971-8b6215ccf6f4",
   "metadata": {},
   "outputs": [
    {
     "name": "stdout",
     "output_type": "stream",
     "text": [
      "Your cards: Nine of Diamonds, Queen of Spades\n",
      "Your score: 19\n",
      "Computer's visible card: Eight of Clubs\n"
     ]
    },
    {
     "name": "stdin",
     "output_type": "stream",
     "text": [
      "Do you want to hit or stand?  hit\n"
     ]
    },
    {
     "name": "stdout",
     "output_type": "stream",
     "text": [
      "Your cards: Nine of Diamonds, Queen of Spades, Six of Diamonds\n",
      "Your score: 25\n",
      "Your final cards: Nine of Diamonds, Queen of Spades, Six of Diamonds\n",
      "Your final score: 25\n",
      "Computer's cards: Eight of Clubs, Three of Spades, King of Clubs\n",
      "Computer's score: 21\n",
      "You bust! Computer wins.\n"
     ]
    }
   ],
   "source": [
    "# 39. Build a program that simulates a basic text-based blackjack game against the computer.\n",
    "import random\n",
    "\n",
    "suits = ['Hearts', 'Diamonds', 'Clubs', 'Spades']\n",
    "ranks = ['Two', 'Three', 'Four', 'Five', 'Six', 'Seven', 'Eight', 'Nine', 'Ten', 'Jack', 'Queen', 'King', 'Ace']\n",
    "deck = [(rank, suit) for rank in ranks for suit in suits]\n",
    "card_values = {'Two': 2, 'Three': 3, 'Four': 4, 'Five': 5, 'Six': 6, 'Seven': 7, 'Eight': 8, 'Nine': 9, 'Ten': 10,\n",
    "               'Jack': 10, 'Queen': 10, 'King': 10, 'Ace': 11}\n",
    "random.shuffle(deck)\n",
    "\n",
    "player_hand = [deck.pop(), deck.pop()]\n",
    "computer_hand = [deck.pop(), deck.pop()]\n",
    "\n",
    "player_score = sum(card_values[card[0]] for card in player_hand)\n",
    "computer_score = sum(card_values[card[0]] for card in computer_hand)\n",
    "print('Your cards:', ', '.join(f'{card[0]} of {card[1]}' for card in player_hand))\n",
    "print('Your score:', player_score)\n",
    "print('Computer\\'s visible card:', f'{computer_hand[0][0]} of {computer_hand[0][1]}')\n",
    "while player_score < 21:\n",
    "    action = input('Do you want to hit or stand? ').strip().lower()\n",
    "    if action == 'hit':\n",
    "        player_hand.append(deck.pop())\n",
    "        player_score = sum(card_values[card[0]] for card in player_hand)\n",
    "        print('Your cards:', ', '.join(f'{card[0]} of {card[1]}' for card in player_hand))\n",
    "        print('Your score:', player_score)\n",
    "    elif action == 'stand':\n",
    "        break\n",
    "    else:\n",
    "        print('Invalid input. Please enter hit or stand.')\n",
    "while computer_score < 17:\n",
    "    computer_hand.append(deck.pop())\n",
    "    computer_score = sum(card_values[card[0]] for card in computer_hand)\n",
    "print('Your final cards:', ', '.join(f'{card[0]} of {card[1]}' for card in player_hand))\n",
    "print('Your final score:', player_score)\n",
    "print('Computer\\'s cards:', ', '.join(f'{card[0]} of {card[1]}' for card in computer_hand))\n",
    "print('Computer\\'s score:', computer_score)\n",
    "if player_score > 21:\n",
    "    print('You bust! Computer wins.')\n",
    "elif computer_score > 21:\n",
    "    print('Computer busts! You win.')\n",
    "elif player_score > computer_score:\n",
    "    print('You win!')\n",
    "elif player_score < computer_score:\n",
    "    print('Computer wins.')\n",
    "else:\n",
    "    print('It\\'s a tie.')\n"
   ]
  },
  {
   "cell_type": "code",
   "execution_count": 9,
   "id": "3323501d-3ec0-4e45-979e-fc3d15f2c920",
   "metadata": {},
   "outputs": [
    {
     "name": "stdin",
     "output_type": "stream",
     "text": [
      "Enter a positive integer:  125\n"
     ]
    },
    {
     "name": "stdout",
     "output_type": "stream",
     "text": [
      "Prime factors of 125 are:\n",
      "5\n"
     ]
    }
   ],
   "source": [
    "# 40. Write a program that generates the prime factors of a given number using trial division.# Input the number to find its prime factors\n",
    "num = int(input(\"Enter a positive integer: \"))\n",
    "\n",
    "if num < 2:\n",
    "    print(\"Prime factors are not defined for numbers less than 2.\")\n",
    "else:\n",
    "    print(\"Prime factors of\", num, \"are:\")\n",
    "    divisor = 2\n",
    "    while num > 1:\n",
    "        if num % divisor == 0:\n",
    "            print(divisor)\n",
    "            while num % divisor == 0:\n",
    "                num //= divisor\n",
    "        divisor += 1\n"
   ]
  }
 ],
 "metadata": {
  "kernelspec": {
   "display_name": "Python 3 (ipykernel)",
   "language": "python",
   "name": "python3"
  },
  "language_info": {
   "codemirror_mode": {
    "name": "ipython",
    "version": 3
   },
   "file_extension": ".py",
   "mimetype": "text/x-python",
   "name": "python",
   "nbconvert_exporter": "python",
   "pygments_lexer": "ipython3",
   "version": "3.10.8"
  }
 },
 "nbformat": 4,
 "nbformat_minor": 5
}
